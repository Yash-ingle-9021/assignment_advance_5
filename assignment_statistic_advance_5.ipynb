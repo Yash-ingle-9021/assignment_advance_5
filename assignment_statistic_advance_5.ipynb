{
 "cells": [
  {
   "cell_type": "markdown",
   "id": "c48bef12-dc56-4946-853f-50f6e2451956",
   "metadata": {},
   "source": [
    "# ASSIGNMENT STATISTIC ADVANCE 5"
   ]
  },
  {
   "cell_type": "code",
   "execution_count": 1,
   "id": "a46d8e39-aa57-4abd-a661-fae1ed7e68f6",
   "metadata": {},
   "outputs": [
    {
     "name": "stdout",
     "output_type": "stream",
     "text": [
      "Q_1_ANS :- \n"
     ]
    }
   ],
   "source": [
    "print(\"Q_1_ANS :- \")"
   ]
  },
  {
   "cell_type": "code",
   "execution_count": 9,
   "id": "13704138-ad65-4335-9f5d-7cadb2759448",
   "metadata": {},
   "outputs": [
    {
     "name": "stdout",
     "output_type": "stream",
     "text": [
      "95% confidence interval: [48.02, 51.98]\n"
     ]
    }
   ],
   "source": [
    "import scipy.stats as stats\n",
    "\n",
    "sample_mean = 50\n",
    "sample_std = 5\n",
    "sample_size = 100 # assuming a sample size of 100\n",
    "\n",
    "confidence_level = 0.95\n",
    "\n",
    "# calculate the standard error\n",
    "std_error = sample_std / (sample_size * 0.05)\n",
    "\n",
    "# calculate the margin of error\n",
    "margin_error = stats.t.ppf((1 + confidence_level) / 2, sample_size - 1) * std_error\n",
    "\n",
    "# calculate the confidence interval\n",
    "lower_bound = sample_mean - margin_error\n",
    "upper_bound = sample_mean + margin_error\n",
    "\n",
    "print(\"95% confidence interval: [{:.2f}, {:.2f}]\".format(lower_bound, upper_bound))\n"
   ]
  },
  {
   "cell_type": "code",
   "execution_count": 10,
   "id": "18b54b1d-858e-47ea-93d7-0c776775feda",
   "metadata": {},
   "outputs": [
    {
     "name": "stdout",
     "output_type": "stream",
     "text": [
      "Q_2_ANS :- \n"
     ]
    }
   ],
   "source": [
    "print(\"Q_2_ANS :- \")"
   ]
  },
  {
   "cell_type": "code",
   "execution_count": 17,
   "id": "0368ccff-7db1-4d61-bfe1-109d4c92a3a4",
   "metadata": {},
   "outputs": [
    {
     "name": "stdout",
     "output_type": "stream",
     "text": [
      "Chi-square statistic = 8.54\n",
      "p-value = 0.1289\n",
      "Fail to reject null hypothesis, the distribution of colors is a good fit to the expected distribution.\n"
     ]
    }
   ],
   "source": [
    "import scipy.stats as stats\n",
    "\n",
    "# observed counts\n",
    "observed = [110, 93, 96, 42, 40, 119]\n",
    "\n",
    "# expected counts (based on the given percentages)\n",
    "expected = [0.2*sum(observed), 0.2*sum(observed), 0.2*sum(observed), 0.1*sum(observed), 0.1*sum(observed), 0.2*sum(observed)]\n",
    "\n",
    "# perform the chi-square test\n",
    "statistic, pvalue = stats.chisquare(observed, expected)\n",
    "\n",
    "# print the results\n",
    "print(\"Chi-square statistic = {:.2f}\".format(statistic))\n",
    "print(\"p-value = {:.4f}\".format(pvalue))\n",
    "\n",
    "if pvalue < 0.05:\n",
    "    print(\"Reject null hypothesis, the distribution of colors is not a good fit to the expected distribution.\")\n",
    "else:\n",
    "    print(\"Fail to reject null hypothesis, the distribution of colors is a good fit to the expected distribution.\")\n"
   ]
  },
  {
   "cell_type": "code",
   "execution_count": 18,
   "id": "b2840a1f-042a-4bd8-89ac-b4083bc890b5",
   "metadata": {},
   "outputs": [
    {
     "name": "stdout",
     "output_type": "stream",
     "text": [
      "Q_3_ANS :- \n"
     ]
    }
   ],
   "source": [
    "print(\"Q_3_ANS :- \")"
   ]
  },
  {
   "cell_type": "code",
   "execution_count": 19,
   "id": "c6b2ed2a-891b-439b-ac58-3f0ea9fb636c",
   "metadata": {},
   "outputs": [
    {
     "name": "stdout",
     "output_type": "stream",
     "text": [
      "Chi-square statistic = 5.83\n",
      "p-value = 0.0541\n",
      "Fail to reject null hypothesis, the groups are independent.\n"
     ]
    }
   ],
   "source": [
    "import scipy.stats as stats\n",
    "\n",
    "# contingency table\n",
    "observed = [[20, 10, 15], [15, 25, 20]]\n",
    "\n",
    "# perform the chi-square test\n",
    "statistic, pvalue, dof, expected = stats.chi2_contingency(observed)\n",
    "\n",
    "# print the results\n",
    "print(\"Chi-square statistic = {:.2f}\".format(statistic))\n",
    "print(\"p-value = {:.4f}\".format(pvalue))\n",
    "\n",
    "if pvalue < 0.05:\n",
    "    print(\"Reject null hypothesis, the groups are not independent.\")\n",
    "else:\n",
    "    print(\"Fail to reject null hypothesis, the groups are independent.\")\n"
   ]
  },
  {
   "cell_type": "code",
   "execution_count": 20,
   "id": "83976700-154f-4427-9fb5-04efcc6016ed",
   "metadata": {},
   "outputs": [
    {
     "name": "stdout",
     "output_type": "stream",
     "text": [
      "Q_4_ANS :- \n"
     ]
    }
   ],
   "source": [
    "print(\"Q_4_ANS :- \")"
   ]
  },
  {
   "cell_type": "code",
   "execution_count": 21,
   "id": "c87df60c-bb1b-4445-90b4-02830d076bed",
   "metadata": {},
   "outputs": [
    {
     "name": "stdout",
     "output_type": "stream",
     "text": [
      "95% confidence interval: (0.0915, 0.1485)\n"
     ]
    }
   ],
   "source": [
    "import statsmodels.stats.proportion as prop\n",
    "\n",
    "# sample size and number of successes\n",
    "n = 500\n",
    "successes = 60\n",
    "\n",
    "# calculate the confidence interval\n",
    "ci = prop.proportion_confint(count=successes, nobs=n, alpha=0.05)\n",
    "\n",
    "# print the results\n",
    "print(\"95% confidence interval: ({:.4f}, {:.4f})\".format(ci[0], ci[1]))\n"
   ]
  },
  {
   "cell_type": "code",
   "execution_count": 22,
   "id": "3e9982f1-ea37-4165-b42a-2941cc75a203",
   "metadata": {},
   "outputs": [
    {
     "name": "stdout",
     "output_type": "stream",
     "text": [
      "Q_5_ANS :- \n"
     ]
    }
   ],
   "source": [
    "print(\"Q_5_ANS :- \")"
   ]
  },
  {
   "cell_type": "code",
   "execution_count": 23,
   "id": "a9fb663b-8473-4fb8-96f6-08954c66b759",
   "metadata": {},
   "outputs": [
    {
     "name": "stdout",
     "output_type": "stream",
     "text": [
      "90% confidence interval: (73.03, 76.97)\n"
     ]
    }
   ],
   "source": [
    "import scipy.stats as stats\n",
    "\n",
    "# sample size, mean, and standard deviation\n",
    "n = 100\n",
    "mean = 75\n",
    "std_dev = 12\n",
    "\n",
    "# calculate the confidence interval\n",
    "ci = stats.norm.interval(0.9, loc=mean, scale=std_dev/np.sqrt(n))\n",
    "\n",
    "# print the results\n",
    "print(\"90% confidence interval: ({:.2f}, {:.2f})\".format(ci[0], ci[1]))\n"
   ]
  },
  {
   "cell_type": "code",
   "execution_count": 24,
   "id": "c5fb8e40-ac7b-436b-b6c8-4af7c462bf5a",
   "metadata": {},
   "outputs": [
    {
     "name": "stdout",
     "output_type": "stream",
     "text": [
      "Q_6_ANS :- \n"
     ]
    }
   ],
   "source": [
    "print(\"Q_6_ANS :- \")"
   ]
  },
  {
   "cell_type": "code",
   "execution_count": 25,
   "id": "3069ed44-0c03-4e2c-8690-8077b0d41e35",
   "metadata": {},
   "outputs": [
    {
     "data": {
      "image/png": "[encoded data removed]",
      "text/plain": [
       "<Figure size 640x480 with 1 Axes>"
      ]
     },
     "metadata": {},
     "output_type": "display_data"
    }
   ],
   "source": [
    "import scipy.stats as stats\n",
    "import matplotlib.pyplot as plt\n",
    "import numpy as np\n",
    "\n",
    "# degrees of freedom\n",
    "df = 10\n",
    "\n",
    "# create x values for the plot\n",
    "x = np.linspace(0, 30, 200)\n",
    "\n",
    "# plot the chi-square distribution with df degrees of freedom\n",
    "plt.plot(x, stats.chi2.pdf(x, df), label=\"chi-square distribution with {} degrees of freedom\".format(df))\n",
    "\n",
    "# shade the area corresponding to a chi-square statistic of 15\n",
    "x_shade = np.linspace(15, 30, 200)\n",
    "y_shade = stats.chi2.pdf(x_shade, df)\n",
    "plt.fill_between(x_shade, y_shade, color='blue', alpha=0.3)\n",
    "\n",
    "# add labels and title\n",
    "plt.xlabel('Chi-square statistic')\n",
    "plt.ylabel('Probability density')\n",
    "plt.title('Chi-square distribution with {} degrees of freedom'.format(df))\n",
    "\n",
    "# show the plot\n",
    "plt.show()\n"
   ]
  },
  {
   "cell_type": "code",
   "execution_count": 28,
   "id": "54d86d0e-2285-4891-b13c-cc941cc722c7",
   "metadata": {},
   "outputs": [
    {
     "name": "stdout",
     "output_type": "stream",
     "text": [
      "Q_7_ANS :- To calculate the 99% confidence interval for the true proportion of people in the population who prefer Coke given a random sample of 1000 people where 520 preferred Coke, we can use the following formula:\n",
      "\n",
      "Confidence interval = sample proportion ± z-score x standard error\n",
      "\n",
      "where z-score is the critical value from the standard normal distribution at the desired confidence level (in this case, 99% corresponds to a z-score of 2.576), and the standard error is given by:\n",
      "\n",
      "standard error = sqrt((sample proportion * (1 - sample proportion)) / sample size)\n",
      "\n",
      "Substituting the given values into these equations, we get:\n",
      "\n",
      "sample proportion = 520 / 1000 = 0.52\n",
      "sample size = 1000\n",
      "z-score = 2.576\n",
      "standard error = sqrt((0.52 * 0.48) / 1000) = 0.016\n",
      "\n",
      "Therefore, the 99% confidence interval is:\n",
      "\n",
      "0.52 ± 2.576 x 0.016\n",
      "\n",
      "which gives us:\n",
      "\n",
      "(0.488, 0.552)\n",
      "\n",
      "So we can say with 99% confidence that the true proportion of people in the population who prefer Coke is between 0.488 and 0.552.\n"
     ]
    }
   ],
   "source": [
    "print(\"Q_7_ANS :- To calculate the 99% confidence interval for the true proportion of people in the population who prefer Coke given a random sample of 1000 people where 520 preferred Coke, we can use the following formula:\\n\\nConfidence interval = sample proportion ± z-score x standard error\\n\\nwhere z-score is the critical value from the standard normal distribution at the desired confidence level (in this case, 99% corresponds to a z-score of 2.576), and the standard error is given by:\\n\\nstandard error = sqrt((sample proportion * (1 - sample proportion)) / sample size)\\n\\nSubstituting the given values into these equations, we get:\\n\\nsample proportion = 520 / 1000 = 0.52\\nsample size = 1000\\nz-score = 2.576\\nstandard error = sqrt((0.52 * 0.48) / 1000) = 0.016\\n\\nTherefore, the 99% confidence interval is:\\n\\n0.52 ± 2.576 x 0.016\\n\\nwhich gives us:\\n\\n(0.488, 0.552)\\n\\nSo we can say with 99% confidence that the true proportion of people in the population who prefer Coke is between 0.488 and 0.552.\")"
   ]
  },
  {
   "cell_type": "code",
   "execution_count": 30,
   "id": "627f58b4-60b4-40da-ba61-d7b873f46a8a",
   "metadata": {},
   "outputs": [
    {
     "name": "stdout",
     "output_type": "stream",
     "text": [
      "Q_8_ANS :- To conduct a chi-square goodness of fit test to determine if the observed frequencies of the coin flip match the expected frequencies of a fair coin, we need to set up the null and alternative hypotheses as follows:\n",
      "\n",
      "Null hypothesis (H0): The observed frequencies match the expected frequencies of a fair coin.\n",
      "Alternative hypothesis (Ha): The observed frequencies do not match the expected frequencies of a fair coin.\n",
      "\n",
      "We will use a significance level of 0.05, which means we will reject the null hypothesis if the p-value is less than 0.05.\n",
      "\n",
      "The expected frequency of tails in a fair coin is 0.5, and the expected frequency of heads is also 0.5. Therefore, for 100 coin flips, we expect to see 50 tails and 50 heads. We can set up the following table to calculate the expected and observed frequencies:\n",
      "\n",
      "|          | Tails | Heads |\n",
      "|----------|-------|-------|\n",
      "| Observed | 45    | 55    |\n",
      "| Expected | 50    | 50    |\n",
      "\n",
      "To calculate the chi-square statistic, we use the following formula:\n",
      "\n",
      "chi-square = Σ ((observed frequency - expected frequency)² / expected frequency)\n",
      "\n",
      "Substituting the observed and expected frequencies into this formula, we get:\n",
      "\n",
      "chi-square = ((45 - 50)² / 50) + ((55 - 50)² / 50) = 1\n",
      "\n",
      "We have one degree of freedom for this test, which is the number of categories minus one. In this case, we have two categories (tails and heads), so we have one degree of freedom.\n",
      "\n",
      "This gives us a p-value of 0.317, which is greater than 0.05. Therefore, we fail to reject the null hypothesis and conclude that there is not enough evidence to suggest that the coin is biased towards tails.\n",
      "\n",
      "In other words, we cannot conclude that the observed frequencies of tails and heads in the coin flip are significantly different from what we would expect to see with a fair coin.\n",
      "\n",
      "Using Python, we can calculate the p-value for this test as follows: \n",
      "0.31731050786291415\n"
     ]
    }
   ],
   "source": [
    "print(\"Q_8_ANS :- To conduct a chi-square goodness of fit test to determine if the observed frequencies of the coin flip match the expected frequencies of a fair coin, we need to set up the null and alternative hypotheses as follows:\\n\\nNull hypothesis (H0): The observed frequencies match the expected frequencies of a fair coin.\\nAlternative hypothesis (Ha): The observed frequencies do not match the expected frequencies of a fair coin.\\n\\nWe will use a significance level of 0.05, which means we will reject the null hypothesis if the p-value is less than 0.05.\\n\\nThe expected frequency of tails in a fair coin is 0.5, and the expected frequency of heads is also 0.5. Therefore, for 100 coin flips, we expect to see 50 tails and 50 heads. We can set up the following table to calculate the expected and observed frequencies:\\n\\n|          | Tails | Heads |\\n|----------|-------|-------|\\n| Observed | 45    | 55    |\\n| Expected | 50    | 50    |\\n\\nTo calculate the chi-square statistic, we use the following formula:\\n\\nchi-square = Σ ((observed frequency - expected frequency)² / expected frequency)\\n\\nSubstituting the observed and expected frequencies into this formula, we get:\\n\\nchi-square = ((45 - 50)² / 50) + ((55 - 50)² / 50) = 1\\n\\nWe have one degree of freedom for this test, which is the number of categories minus one. In this case, we have two categories (tails and heads), so we have one degree of freedom.\\n\\nThis gives us a p-value of 0.317, which is greater than 0.05. Therefore, we fail to reject the null hypothesis and conclude that there is not enough evidence to suggest that the coin is biased towards tails.\\n\\nIn other words, we cannot conclude that the observed frequencies of tails and heads in the coin flip are significantly different from what we would expect to see with a fair coin.\\n\\nUsing Python, we can calculate the p-value for this test as follows: \")\n",
    "from scipy.stats import chi2\n",
    "\n",
    "p_value = 1 - chi2.cdf(1, 1)\n",
    "print(p_value)"
   ]
  },
  {
   "cell_type": "code",
   "execution_count": 31,
   "id": "85b991e7-7133-44a0-bf6c-0789f2614d2a",
   "metadata": {},
   "outputs": [
    {
     "name": "stdout",
     "output_type": "stream",
     "text": [
      "Q_9_ANS :- \n"
     ]
    }
   ],
   "source": [
    "print(\"Q_9_ANS :- \")"
   ]
  },
  {
   "cell_type": "code",
   "execution_count": 32,
   "id": "8218dc18-a4c9-496b-a6ea-cad7692a3050",
   "metadata": {},
   "outputs": [
    {
     "name": "stdout",
     "output_type": "stream",
     "text": [
      "Chi-square statistic: 12.057347670250895\n",
      "p-value: 0.0005158863863703744\n"
     ]
    }
   ],
   "source": [
    "import numpy as np\n",
    "from scipy.stats import chi2_contingency\n",
    "\n",
    "# create the contingency table\n",
    "observed = np.array([[60, 30], [140, 170]])\n",
    "\n",
    "# perform the chi-square test for independence\n",
    "chi2_stat, p_val, dof, expected = chi2_contingency(observed)\n",
    "\n",
    "# print the results\n",
    "print(\"Chi-square statistic:\", chi2_stat)\n",
    "print(\"p-value:\", p_val)\n"
   ]
  },
  {
   "cell_type": "code",
   "execution_count": 33,
   "id": "26b0aa42-7eb2-4f3e-ba38-9062a0a6cd1d",
   "metadata": {},
   "outputs": [
    {
     "name": "stdout",
     "output_type": "stream",
     "text": [
      "Q_10_ANS :- To conduct a chi-square test for independence, we need to set up the null and alternative hypotheses:\n",
      "\n",
      "Null hypothesis: There is no association between chocolate preference and country of origin.\n",
      "Alternative hypothesis: There is an association between chocolate preference and country of origin.\n",
      "We will use a significance level of 0.01.\n",
      "\n",
      "First, let's calculate the expected frequencies for each cell under the assumption of no association. We can do this by taking the row totals, column totals, and the total sample size, and using these values to calculate the expected cell frequencies.\n",
      "\n",
      "Milk Chocolate\n",
      "U.S. (n=500) = 200, expected = (200+225)/1000 * (200+150+150)/1000 = 107.25\n",
      "U.K. (n=500)  = 225, expected = (200+225)/1000 * (225+175+100)/1000 = 117.75\n",
      "\n",
      "Dark Chocolate\n",
      "U.S. (n=500) = 150, expected = (150+175)/1000 * (200+150+150)/1000 = 81.75\n",
      "U.K. (n=500)  = 175, expected = (150+175)/1000 * (225+175+100)/1000 = 93.25\n",
      "\n",
      "White Chocolate\n",
      "U.S. (n=500) = 150, expected = (150+100)/1000 * (200+150+150)/1000 = 68.25\n",
      "U.K. (n=500)  = 100, expected = (150+100)/1000 * (225+175+100)/1000 = 31.75\n",
      "\n",
      "The observed and expected frequencies are summarized in the contingency table below.\n",
      "\n",
      "|               | Milk Chocolate | Dark Chocolate | White Chocolate | Row Total |\n",
      "|---------------|----------------|----------------|-----------------|-----------|\n",
      "| U.S.          | 200            | 150            | 150             | 500       |\n",
      "| Expected      | 107.25         | 81.75          | 68.25           |           |\n",
      "|---------------|----------------|----------------|-----------------|-----------|\n",
      "| U.K.          | 225            | 175            | 100             | 500       |\n",
      "| Expected      | 117.75         | 93.25          | 31.75           |           |\n",
      "|---------------|----------------|----------------|-----------------|-----------|\n",
      "| Column Total  | 425            | 325            | 250             | 1000      |\n",
      "\n",
      "Now we can calculate the chi-square test statistic using the formula:\n",
      "\n",
      "χ2 = Σ[(O-E)²/E]\n",
      "\n",
      "where O is the observed frequency and E is the expected frequency.\n",
      "\n",
      "χ2 = (200-107.25)²/107.25 + (150-81.75)²/81.75 + (150-68.25)²/68.25 + (225-117.75)²/117.75 + (175-93.25)²/93.25 + (100-31.75)²/31.75\n",
      "\n",
      "χ2 = 126.61\n",
      "\n",
      "Using a significance level of 0.01 and degrees of freedom (df) = (3-1) * (2-1) = 2, the critical value of chi-square is 9.21. Since our calculated χ2 value (126.61) is greater than the critical value (9.21), we reject the null hypothesis and conclude that there is a significant association between chocolate preference and country of origin.\n",
      "\n",
      "Therefore, we can conclude that the proportion of people who prefer milk chocolate, dark chocolate, or white chocolate is different in the U.S \n"
     ]
    }
   ],
   "source": [
    "print(\"Q_10_ANS :- To conduct a chi-square test for independence, we need to set up the null and alternative hypotheses:\\n\\nNull hypothesis: There is no association between chocolate preference and country of origin.\\nAlternative hypothesis: There is an association between chocolate preference and country of origin.\\nWe will use a significance level of 0.01.\\n\\nFirst, let's calculate the expected frequencies for each cell under the assumption of no association. We can do this by taking the row totals, column totals, and the total sample size, and using these values to calculate the expected cell frequencies.\\n\\nMilk Chocolate\\nU.S. (n=500) = 200, expected = (200+225)/1000 * (200+150+150)/1000 = 107.25\\nU.K. (n=500)  = 225, expected = (200+225)/1000 * (225+175+100)/1000 = 117.75\\n\\nDark Chocolate\\nU.S. (n=500) = 150, expected = (150+175)/1000 * (200+150+150)/1000 = 81.75\\nU.K. (n=500)  = 175, expected = (150+175)/1000 * (225+175+100)/1000 = 93.25\\n\\nWhite Chocolate\\nU.S. (n=500) = 150, expected = (150+100)/1000 * (200+150+150)/1000 = 68.25\\nU.K. (n=500)  = 100, expected = (150+100)/1000 * (225+175+100)/1000 = 31.75\\n\\nThe observed and expected frequencies are summarized in the contingency table below.\\n\\n|               | Milk Chocolate | Dark Chocolate | White Chocolate | Row Total |\\n|---------------|----------------|----------------|-----------------|-----------|\\n| U.S.          | 200            | 150            | 150             | 500       |\\n| Expected      | 107.25         | 81.75          | 68.25           |           |\\n|---------------|----------------|----------------|-----------------|-----------|\\n| U.K.          | 225            | 175            | 100             | 500       |\\n| Expected      | 117.75         | 93.25          | 31.75           |           |\\n|---------------|----------------|----------------|-----------------|-----------|\\n| Column Total  | 425            | 325            | 250             | 1000      |\\n\\nNow we can calculate the chi-square test statistic using the formula:\\n\\nχ2 = Σ[(O-E)²/E]\\n\\nwhere O is the observed frequency and E is the expected frequency.\\n\\nχ2 = (200-107.25)²/107.25 + (150-81.75)²/81.75 + (150-68.25)²/68.25 + (225-117.75)²/117.75 + (175-93.25)²/93.25 + (100-31.75)²/31.75\\n\\nχ2 = 126.61\\n\\nUsing a significance level of 0.01 and degrees of freedom (df) = (3-1) * (2-1) = 2, the critical value of chi-square is 9.21. Since our calculated χ2 value (126.61) is greater than the critical value (9.21), we reject the null hypothesis and conclude that there is a significant association between chocolate preference and country of origin.\\n\\nTherefore, we can conclude that the proportion of people who prefer milk chocolate, dark chocolate, or white chocolate is different in the U.S \")"
   ]
  },
  {
   "cell_type": "code",
   "execution_count": 36,
   "id": "62180f15-59c9-44e4-9bb0-0154549a501b",
   "metadata": {},
   "outputs": [
    {
     "name": "stdout",
     "output_type": "stream",
     "text": [
      "Q_11_ANS :- To test the hypothesis that the population mean is significantly different from 70, we can use a one-sample t-test.\n",
      "\n",
      "The null hypothesis is that the population mean is equal to 70. The alternative hypothesis is that the population mean is significantly different from 70.\n",
      "\n",
      "Using a significance level of 0.05 and a two-tailed test, the critical t-value is:\n",
      "Critical t-value: -2.0452296421327034\n",
      "\n",
      "The test statistic can be calculated as:\n",
      "Test statistic: 1.0954451150103321\n",
      "\n",
      "Since the test statistic (1.34) is less than the critical t-value (-2.05 or 2.05), we fail to reject the null hypothesis. There is not enough evidence to suggest that the population mean is significantly different from 70 at the 0.05 level of significance.\n",
      "\n",
      "Therefore, we can conclude that there is insufficient evidence to reject the null hypothesis that the population mean is equal to 70 at the 0.05 level of significance.\n"
     ]
    }
   ],
   "source": [
    "print(\"Q_11_ANS :- To test the hypothesis that the population mean is significantly different from 70, we can use a one-sample t-test.\\n\\nThe null hypothesis is that the population mean is equal to 70. The alternative hypothesis is that the population mean is significantly different from 70.\\n\\nUsing a significance level of 0.05 and a two-tailed test, the critical t-value is:\")\n",
    "\n",
    "t_critical = stats.t.ppf(0.025, 29)  # two-tailed t-test with 29 degrees of freedom\n",
    "print(\"Critical t-value:\", t_critical)\n",
    "\n",
    "print(\"\\nThe test statistic can be calculated as:\")\n",
    "\n",
    "t = (72 - 70) / (10 / np.sqrt(30))\n",
    "print(\"Test statistic:\", t)\n",
    "\n",
    "print(\"\\nSince the test statistic (1.34) is less than the critical t-value (-2.05 or 2.05), we fail to reject the null hypothesis. There is not enough evidence to suggest that the population mean is significantly different from 70 at the 0.05 level of significance.\\n\\nTherefore, we can conclude that there is insufficient evidence to reject the null hypothesis that the population mean is equal to 70 at the 0.05 level of significance.\")"
   ]
  },
  {
   "cell_type": "code",
   "execution_count": null,
   "id": "54d33b83-18ad-4970-b2ae-4616389e599b",
   "metadata": {},
   "outputs": [],
   "source": []
  }
 ],
 "metadata": {
  "kernelspec": {
   "display_name": "Python 3 (ipykernel)",
   "language": "python",
   "name": "python3"
  },
  "language_info": {
   "codemirror_mode": {
    "name": "ipython",
    "version": 3
   },
   "file_extension": ".py",
   "mimetype": "text/x-python",
   "name": "python",
   "nbconvert_exporter": "python",
   "pygments_lexer": "ipython3",
   "version": "3.10.6"
  }
 },
 "nbformat": 4,
 "nbformat_minor": 5
}
